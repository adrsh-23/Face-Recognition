{
 "cells": [
  {
   "cell_type": "code",
   "execution_count": 1,
   "metadata": {},
   "outputs": [
    {
     "name": "stdout",
     "output_type": "stream",
     "text": [
      "Error finding face\n",
      "Error finding face\n",
      "Error finding face\n",
      "Error finding face\n",
      "Error finding face\n",
      "Error finding face\n",
      "Error finding face\n",
      "Error finding face\n",
      "Error finding face\n",
      "Error finding face\n",
      "Error finding face\n",
      "Error finding face\n",
      "Error finding face\n",
      "Error finding face\n",
      "Error finding face\n",
      "Error finding face\n",
      "Error finding face\n",
      "Error finding face\n",
      "Error finding face\n",
      "Error finding face\n",
      "Error finding face\n",
      "Error finding face\n",
      "Error finding face\n",
      "Error finding face\n",
      "Error finding face\n",
      "Error finding face\n",
      "Error finding face\n",
      "Error finding face\n",
      "Error finding face\n",
      "Error finding face\n",
      "Error finding face\n",
      "Error finding face\n",
      "Error finding face\n",
      "Error finding face\n",
      "Error finding face\n",
      "Error finding face\n",
      "Error finding face\n",
      "Error finding face\n",
      "Error finding face\n",
      "Error finding face\n",
      "Error finding face\n",
      "Error finding face\n",
      "Error finding face\n",
      "Error finding face\n",
      "Error finding face\n",
      "Data collected Successfully!!\n"
     ]
    }
   ],
   "source": [
    "import cv2\n",
    "import numpy as np\n",
    "# load harrcascade frontalface \n",
    "face_classifier = cv2.CascadeClassifier('haarcascade_frontalface_default.xml')\n",
    "# Function to detect face and give only the cropped face as output\n",
    "def face_extractor(img):    \n",
    "    faces = face_classifier.detectMultiScale(img, 1.3, 5)    \n",
    "    if faces is ():\n",
    "        return None\n",
    "    for (x,y,w,h) in faces:\n",
    "        cropped_face = img[y:y+h, x:x+w]\n",
    "    return cropped_face\n",
    "# Capturing frames using webcam <0 for default, 1 for external>\n",
    "cap = cv2.VideoCapture(0)\n",
    "count = 0\n",
    "while True:\n",
    "    ret, frame = cap.read()\n",
    "    if face_extractor(frame) is not None:\n",
    "        count += 1\n",
    "        face = cv2.resize(face_extractor(frame), (200, 200))        \n",
    "        # Save file in specified directory with unique name\n",
    "        file_name_path = 'C://Users//ADARSH THAKUR//Desktop//MLOPS-Projects//task4//Images//' + str(count) + '.jpg' #saving file as jpg\n",
    "        cv2.imwrite(file_name_path, face)\n",
    "        # Put count on images and display live count\n",
    "        cv2.putText(face, str(count), (50, 50), cv2.FONT_HERSHEY_COMPLEX, 1, (0,0,255), 3)\n",
    "        cv2.imshow('Face Cropper', face)        \n",
    "    else:\n",
    "        print(\"Error finding face\")\n",
    "        pass\n",
    "    # click 100 images \n",
    "    if cv2.waitKey(1) == 13 or count == 100: # either the user presses enter key or the total count of images reach 100\n",
    "        break        \n",
    "cap.release()\n",
    "cv2.destroyAllWindows()      \n",
    "print(\"Data collected Successfully!!\")\n"
   ]
  },
  {
   "cell_type": "code",
   "execution_count": null,
   "metadata": {},
   "outputs": [],
   "source": []
  }
 ],
 "metadata": {
  "kernelspec": {
   "display_name": "Python 3",
   "language": "python",
   "name": "python3"
  },
  "language_info": {
   "codemirror_mode": {
    "name": "ipython",
    "version": 3
   },
   "file_extension": ".py",
   "mimetype": "text/x-python",
   "name": "python",
   "nbconvert_exporter": "python",
   "pygments_lexer": "ipython3",
   "version": "3.7.7"
  }
 },
 "nbformat": 4,
 "nbformat_minor": 4
}
